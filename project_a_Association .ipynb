{
 "cells": [
  {
   "cell_type": "code",
   "execution_count": 102,
   "metadata": {},
   "outputs": [],
   "source": [
    "import pandas as pd\n",
    "import numpy as np\n",
    "import seaborn as sns"
   ]
  },
  {
   "cell_type": "code",
   "execution_count": 103,
   "metadata": {},
   "outputs": [
    {
     "name": "stdout",
     "output_type": "stream",
     "text": [
      "<class 'pandas.core.frame.DataFrame'>\n",
      "RangeIndex: 1544 entries, 0 to 1543\n",
      "Data columns (total 6 columns):\n",
      " #   Column      Non-Null Count  Dtype  \n",
      "---  ------      --------------  -----  \n",
      " 0   patient_id  1544 non-null   object \n",
      " 1   global_num  975 non-null    float64\n",
      " 2   date        1544 non-null   object \n",
      " 3   location    1544 non-null   object \n",
      " 4   latitude    1544 non-null   float64\n",
      " 5   longitude   1544 non-null   float64\n",
      "dtypes: float64(3), object(3)\n",
      "memory usage: 72.5+ KB\n"
     ]
    }
   ],
   "source": [
    "df = pd.read_csv('D1.csv')\n",
    "df.info()"
   ]
  },
  {
   "cell_type": "code",
   "execution_count": 104,
   "metadata": {},
   "outputs": [],
   "source": [
    "df.drop(['global_num'],axis=1, inplace=True)\n",
    "df.drop(['date'],axis=1, inplace=True)\n",
    "df.drop(['latitude'],axis=1, inplace=True)\n",
    "df.drop(['longitude'],axis=1, inplace=True)"
   ]
  },
  {
   "cell_type": "code",
   "execution_count": 105,
   "metadata": {},
   "outputs": [
    {
     "data": {
      "text/html": [
       "<div>\n",
       "<style scoped>\n",
       "    .dataframe tbody tr th:only-of-type {\n",
       "        vertical-align: middle;\n",
       "    }\n",
       "\n",
       "    .dataframe tbody tr th {\n",
       "        vertical-align: top;\n",
       "    }\n",
       "\n",
       "    .dataframe thead th {\n",
       "        text-align: right;\n",
       "    }\n",
       "</style>\n",
       "<table border=\"1\" class=\"dataframe\">\n",
       "  <thead>\n",
       "    <tr style=\"text-align: right;\">\n",
       "      <th></th>\n",
       "      <th>patient_id</th>\n",
       "      <th>location</th>\n",
       "    </tr>\n",
       "  </thead>\n",
       "  <tbody>\n",
       "    <tr>\n",
       "      <th>0</th>\n",
       "      <td>P1000000501</td>\n",
       "      <td>Chittorgarh_Rajasthan</td>\n",
       "    </tr>\n",
       "    <tr>\n",
       "      <th>1</th>\n",
       "      <td>P1000000501</td>\n",
       "      <td>Ratnagiri_Maharashtra</td>\n",
       "    </tr>\n",
       "    <tr>\n",
       "      <th>2</th>\n",
       "      <td>P1000000502</td>\n",
       "      <td>Pindwara_Rajasthan</td>\n",
       "    </tr>\n",
       "    <tr>\n",
       "      <th>3</th>\n",
       "      <td>P1000000502</td>\n",
       "      <td>Raipur_Chhattisgarh</td>\n",
       "    </tr>\n",
       "    <tr>\n",
       "      <th>4</th>\n",
       "      <td>P1000000502</td>\n",
       "      <td>Gokak_Karnataka</td>\n",
       "    </tr>\n",
       "    <tr>\n",
       "      <th>...</th>\n",
       "      <td>...</td>\n",
       "      <td>...</td>\n",
       "    </tr>\n",
       "    <tr>\n",
       "      <th>1539</th>\n",
       "      <td>P9011000510</td>\n",
       "      <td>Sagar_Karnataka</td>\n",
       "    </tr>\n",
       "    <tr>\n",
       "      <th>1540</th>\n",
       "      <td>P9011000510</td>\n",
       "      <td>Jorapokhar_Jharkhand</td>\n",
       "    </tr>\n",
       "    <tr>\n",
       "      <th>1541</th>\n",
       "      <td>P9014000503</td>\n",
       "      <td>Rewa_Madhya Pradesh</td>\n",
       "    </tr>\n",
       "    <tr>\n",
       "      <th>1542</th>\n",
       "      <td>P9014000504</td>\n",
       "      <td>Dharmavaram_Andhra Pradesh</td>\n",
       "    </tr>\n",
       "    <tr>\n",
       "      <th>1543</th>\n",
       "      <td>P9015000503</td>\n",
       "      <td>Asansol_West Bengal</td>\n",
       "    </tr>\n",
       "  </tbody>\n",
       "</table>\n",
       "<p>1544 rows × 2 columns</p>\n",
       "</div>"
      ],
      "text/plain": [
       "       patient_id                    location\n",
       "0     P1000000501       Chittorgarh_Rajasthan\n",
       "1     P1000000501       Ratnagiri_Maharashtra\n",
       "2     P1000000502          Pindwara_Rajasthan\n",
       "3     P1000000502         Raipur_Chhattisgarh\n",
       "4     P1000000502             Gokak_Karnataka\n",
       "...           ...                         ...\n",
       "1539  P9011000510             Sagar_Karnataka\n",
       "1540  P9011000510        Jorapokhar_Jharkhand\n",
       "1541  P9014000503         Rewa_Madhya Pradesh\n",
       "1542  P9014000504  Dharmavaram_Andhra Pradesh\n",
       "1543  P9015000503         Asansol_West Bengal\n",
       "\n",
       "[1544 rows x 2 columns]"
      ]
     },
     "execution_count": 105,
     "metadata": {},
     "output_type": "execute_result"
    }
   ],
   "source": [
    "df"
   ]
  },
  {
   "cell_type": "code",
   "execution_count": 106,
   "metadata": {},
   "outputs": [
    {
     "name": "stdout",
     "output_type": "stream",
     "text": [
      "patient_id\n",
      "P1000000501       [Chittorgarh_Rajasthan, Ratnagiri_Maharashtra]\n",
      "P1000000502    [Pindwara_Rajasthan, Raipur_Chhattisgarh, Goka...\n",
      "P1000000504                              [Lucknow_Uttar Pradesh]\n",
      "P1000000505                              [Lucknow_Uttar Pradesh]\n",
      "P1000000506                                        [Delhi_Delhi]\n",
      "P1000000507                                        [Delhi_Delhi]\n",
      "P1000000508                              [Ratnagiri_Maharashtra]\n",
      "P1000000509                              [Lucknow_Uttar Pradesh]\n",
      "P1000000510                                 [Mumbai_Maharashtra]\n",
      "P1000000511             [Ratnagiri_Maharashtra, Sagar_Karnataka]\n",
      "Name: location, dtype: object\n"
     ]
    }
   ],
   "source": [
    "#group by account\n",
    "transactions = df.groupby(['patient_id'])['location'].apply(list)\n",
    "print(transactions.head(10))"
   ]
  },
  {
   "cell_type": "code",
   "execution_count": 107,
   "metadata": {},
   "outputs": [
    {
     "name": "stdout",
     "output_type": "stream",
     "text": [
      "[RelationRecord(items=frozenset({'Alipurduar_West Bengal'}), support=0.026344676180021953, ordered_statistics=[OrderedStatistic(items_base=frozenset(), items_add=frozenset({'Alipurduar_West Bengal'}), confidence=0.026344676180021953, lift=1.0)]), RelationRecord(items=frozenset({'Anand_Gujarat'}), support=0.01646542261251372, ordered_statistics=[OrderedStatistic(items_base=frozenset(), items_add=frozenset({'Anand_Gujarat'}), confidence=0.01646542261251372, lift=1.0)]), RelationRecord(items=frozenset({'Asansol_West Bengal'}), support=0.018660812294182216, ordered_statistics=[OrderedStatistic(items_base=frozenset(), items_add=frozenset({'Asansol_West Bengal'}), confidence=0.018660812294182216, lift=1.0)]), RelationRecord(items=frozenset({'Barh_Bihar'}), support=0.012074643249176729, ordered_statistics=[OrderedStatistic(items_base=frozenset(), items_add=frozenset({'Barh_Bihar'}), confidence=0.012074643249176729, lift=1.0)]), RelationRecord(items=frozenset({'Basirhat_West Bengal'}), support=0.010976948408342482, ordered_statistics=[OrderedStatistic(items_base=frozenset(), items_add=frozenset({'Basirhat_West Bengal'}), confidence=0.010976948408342482, lift=1.0)])]\n"
     ]
    }
   ],
   "source": [
    "from apyori import apriori\n",
    "\n",
    "transaction_list = list(transactions)\n",
    "results = list(apriori(transaction_list, min_support=0.001, min_confidence=0.01))#Q2min_support=0.01, min_confidence=0.01\n",
    "print(results[:5])"
   ]
  },
  {
   "cell_type": "code",
   "execution_count": 108,
   "metadata": {
    "scrolled": true
   },
   "outputs": [
    {
     "name": "stdout",
     "output_type": "stream",
     "text": [
      "   Left_side                 Right_side   Support  Confidence  Lift\n",
      "0                Alipurduar_West Bengal  0.026345    0.026345   1.0\n",
      "1                         Anand_Gujarat  0.016465    0.016465   1.0\n",
      "2                   Asansol_West Bengal  0.018661    0.018661   1.0\n",
      "3                            Barh_Bihar  0.012075    0.012075   1.0\n",
      "4                  Basirhat_West Bengal  0.010977    0.010977   1.0\n",
      "5                         Batumi_Adjara  0.010977    0.010977   1.0\n",
      "6                     Belgaum_Karnataka  0.015368    0.015368   1.0\n",
      "7             Bhimavaram_Andhra Pradesh  0.012075    0.012075   1.0\n",
      "8                      Chalakudy_Kerala  0.055982    0.055982   1.0\n",
      "9                 Channapatna_Karnataka  0.055982    0.055982   1.0\n",
      "10                     Chatrapur_Odisha  0.023052    0.023052   1.0\n",
      "11                Chittorgarh_Rajasthan  0.010977    0.010977   1.0\n",
      "12                          Delhi_Delhi  0.019759    0.019759   1.0\n",
      "13                      Gokak_Karnataka  0.054885    0.054885   1.0\n",
      "14                       Gondal_Gujarat  0.010977    0.010977   1.0\n",
      "15                    Harihar_Karnataka  0.026345    0.026345   1.0\n",
      "16                     Hassan_Karnataka  0.015368    0.015368   1.0\n",
      "17                     Jagadhri_Haryana  0.010977    0.010977   1.0\n",
      "18            Jalgaon Jamod_Maharashtra  0.016465    0.016465   1.0\n",
      "19               Jaysingpur_Maharashtra  0.024149    0.024149   1.0\n"
     ]
    },
    {
     "data": {
      "text/plain": [
       "Sardarshahar_Rajasthan      134\n",
       "Lucknow_Uttar Pradesh        79\n",
       "Ranebennur_Karnataka         79\n",
       "Ratnagiri_Maharashtra        57\n",
       "Kollam_Kerala                54\n",
       "                           ... \n",
       "Banswara_Rajasthan            1\n",
       "Gudur_Andhra Pradesh          1\n",
       "Bardoli_Gujarat               1\n",
       "Ichalkaranji_Maharashtra      1\n",
       "Karnal_Haryana                1\n",
       "Name: location, Length: 151, dtype: int64"
      ]
     },
     "execution_count": 108,
     "metadata": {},
     "output_type": "execute_result"
    }
   ],
   "source": [
    "def convert_apriori_results_to_pandas_df(results):\n",
    "    rules = []\n",
    "    \n",
    "    for rule_set in results:\n",
    "        for rule in rule_set.ordered_statistics:\n",
    "            # items_base = left side of rules, items_add = right side\n",
    "            # support, confidence and lift for respective rules\n",
    "            rules.append([','.join(rule.items_base), ','.join(rule.items_add),\n",
    "                         rule_set.support, rule.confidence, rule.lift]) \n",
    "    \n",
    "    # typecast it to pandas df\n",
    "    return pd.DataFrame(rules, columns=['Left_side', 'Right_side', 'Support', \n",
    "                                        'Confidence', 'Lift']) \n",
    "\n",
    "result_df = convert_apriori_results_to_pandas_df(results)\n",
    "\n",
    "print(result_df.head(20))\n",
    "df['location'].value_counts()"
   ]
  },
  {
   "cell_type": "code",
   "execution_count": 109,
   "metadata": {},
   "outputs": [
    {
     "name": "stdout",
     "output_type": "stream",
     "text": [
      "                 Left_side                                         Right_side  \\\n",
      "2883  Ranebennur_Karnataka         Jorapokhar_Jharkhand,Ratnagiri_Maharashtra   \n",
      "4355  Ranebennur_Karnataka  Channapatna_Karnataka,Medinipur_West Bengal,Ra...   \n",
      "4314  Ranebennur_Karnataka  Ramanagara_Karnataka,Channapatna_Karnataka,Mah...   \n",
      "4271  Ranebennur_Karnataka  Jorapokhar_Jharkhand,Channapatna_Karnataka,Rat...   \n",
      "4216  Ranebennur_Karnataka  Jorapokhar_Jharkhand,Channapatna_Karnataka,Mah...   \n",
      "\n",
      "       Support  Confidence       Lift  \n",
      "2883  0.002195    0.025316  11.531646  \n",
      "4355  0.001098    0.012658  11.531646  \n",
      "4314  0.001098    0.012658  11.531646  \n",
      "4271  0.001098    0.012658  11.531646  \n",
      "4216  0.001098    0.012658  11.531646  \n"
     ]
    }
   ],
   "source": [
    "# sort all acquired rules descending by lift\n",
    "result_df1 = result_df.loc[result_df['Left_side'] == 'Ranebennur_Karnataka'].sort_values(by='Lift', ascending=False)\n",
    "\n",
    "print(result_df1.head(5))"
   ]
  },
  {
   "cell_type": "code",
   "execution_count": 110,
   "metadata": {},
   "outputs": [
    {
     "name": "stdout",
     "output_type": "stream",
     "text": [
      "                                              Left_side  \\\n",
      "5308  Chalakudy_Kerala,Bokaro Steel City_Jharkhand,C...   \n",
      "5129  Basirhat_West Bengal,Delhi_Delhi,Manikchak_Wes...   \n",
      "5132  Basirhat_West Bengal,Gokak_Karnataka,Rasayani_...   \n",
      "4703              Suryapet_Telangana,Junnar_Maharashtra   \n",
      "5134  Manikchak_West Bengal,Delhi_Delhi,Gokak_Karnataka   \n",
      "5135   Delhi_Delhi,Rasayani_Maharashtra,Gokak_Karnataka   \n",
      "5136  Delhi_Delhi,Rasayani_Maharashtra,Manikchak_Wes...   \n",
      "4704                 Suryapet_Telangana,Mehsana_Gujarat   \n",
      "5137  Gokak_Karnataka,Rasayani_Maharashtra,Manikchak...   \n",
      "1732                        Bokaro Steel City_Jharkhand   \n",
      "\n",
      "                                      Right_side   Support  Confidence   Lift  \n",
      "5308         Yavatmal_Maharashtra,Pali_Rajasthan  0.001098         1.0  911.0  \n",
      "5129        Gokak_Karnataka,Rasayani_Maharashtra  0.001098         1.0  911.0  \n",
      "5132           Delhi_Delhi,Manikchak_West Bengal  0.001098         1.0  911.0  \n",
      "4703              Mehsana_Gujarat,Gondal_Gujarat  0.001098         1.0  911.0  \n",
      "5134   Basirhat_West Bengal,Rasayani_Maharashtra  0.001098         1.0  911.0  \n",
      "5135  Basirhat_West Bengal,Manikchak_West Bengal  0.001098         1.0  911.0  \n",
      "5136        Basirhat_West Bengal,Gokak_Karnataka  0.001098         1.0  911.0  \n",
      "4704           Gondal_Gujarat,Junnar_Maharashtra  0.001098         1.0  911.0  \n",
      "5137            Basirhat_West Bengal,Delhi_Delhi  0.001098         1.0  911.0  \n",
      "1732         Yavatmal_Maharashtra,Pali_Rajasthan  0.001098         1.0  911.0  \n"
     ]
    }
   ],
   "source": [
    "result_df = result_df.sort_values(by='Lift', ascending=False)\n",
    "print(result_df.head(10))"
   ]
  },
  {
   "cell_type": "code",
   "execution_count": 111,
   "metadata": {},
   "outputs": [
    {
     "name": "stdout",
     "output_type": "stream",
     "text": [
      "[['Chittorgarh_Rajasthan', 'Ratnagiri_Maharashtra'], ['Pindwara_Rajasthan', 'Raipur_Chhattisgarh', 'Gokak_Karnataka'], ['Lucknow_Uttar Pradesh'], ['Lucknow_Uttar Pradesh'], ['Delhi_Delhi']]\n"
     ]
    }
   ],
   "source": [
    "transactions = df.groupby(['patient_id'])['location'].apply(list)\n",
    "sequences = transactions.values.tolist()\n",
    "\n",
    "# show the first 5 sequences\n",
    "print(sequences[:5])"
   ]
  },
  {
   "cell_type": "code",
   "execution_count": 113,
   "metadata": {},
   "outputs": [],
   "source": [
    "from collections import defaultdict\n",
    "import subprocess\n",
    "import re\n",
    "\n",
    "''' Uses SPMF to find association rules in supplied transactions '''\n",
    "def get_association_rules(sequences, min_sup, min_conf):\n",
    "    # step 1: create required input for SPMF\n",
    "    \n",
    "    # prepare a dict to uniquely assign each item in the transactions to an int ID\n",
    "    item_dict = defaultdict(int)\n",
    "    output_dict = defaultdict(str)\n",
    "    item_id = 1\n",
    "    \n",
    "    # write your sequences in SPMF format\n",
    "    with open('seq_rule_input.txt', 'w+') as f:\n",
    "        for sequence in sequences:\n",
    "            z = []\n",
    "            for itemset in sequence:\n",
    "                # if there are multiple items in one itemset\n",
    "                if isinstance(itemset, list):\n",
    "                    for item in itemset:\n",
    "                        if item not in item_dict:\n",
    "                            item_dict[item] = item_id\n",
    "                            item_id += 1\n",
    "\n",
    "                        z.append(item_dict[item])\n",
    "                else:\n",
    "                    if itemset not in item_dict:\n",
    "                        item_dict[itemset] = item_id\n",
    "                        output_dict[str(item_id)] = itemset\n",
    "                        item_id += 1\n",
    "                    z.append(item_dict[itemset])\n",
    "                    \n",
    "                # end of itemset\n",
    "                z.append(-1)\n",
    "            \n",
    "            # end of a sequence\n",
    "            z.append(-2)\n",
    "            f.write(' '.join([str(x) for x in z]))\n",
    "            f.write('\\n')\n",
    "    \n",
    "    # run SPMF with supplied parameters\n",
    "    supp_param = '{}%'.format(int(min_sup * 100))\n",
    "    conf_param = '{}%'.format(int(min_conf * 100))\n",
    "    subprocess.call(['java', '-jar', 'spmf.jar', 'run', 'RuleGrowth', 'seq_rule_input.txt', 'seq_rule_output.txt', supp_param, conf_param], shell=True)\n",
    "    \n",
    "    # read back the output rules\n",
    "    outputs = open('seq_rule_output.txt', 'r').read().strip().split('\\n')\n",
    "    output_rules = []\n",
    "    for rule in outputs:\n",
    "        left, right, sup, conf = re.search(pattern=r'([0-9\\,]+) ==> ([0-9\\,]+) #SUP: ([0-9]+) #CONF: ([0-9\\.]+)', string=rule).groups()\n",
    "        sup = int(sup) / len(sequences)\n",
    "        conf = float(conf)\n",
    "        output_rules.append([[output_dict[x] for x in left.split(',')], [output_dict[x] for x in right.split(',')], sup, conf])\n",
    "    \n",
    "    # return pandas DataFrame\n",
    "    return pd.DataFrame(output_rules, columns = ['Left_rule', 'Right_rule', 'Support', 'Confidence'])"
   ]
  },
  {
   "cell_type": "code",
   "execution_count": 115,
   "metadata": {},
   "outputs": [
    {
     "data": {
      "text/html": [
       "<div>\n",
       "<style scoped>\n",
       "    .dataframe tbody tr th:only-of-type {\n",
       "        vertical-align: middle;\n",
       "    }\n",
       "\n",
       "    .dataframe tbody tr th {\n",
       "        vertical-align: top;\n",
       "    }\n",
       "\n",
       "    .dataframe thead th {\n",
       "        text-align: right;\n",
       "    }\n",
       "</style>\n",
       "<table border=\"1\" class=\"dataframe\">\n",
       "  <thead>\n",
       "    <tr style=\"text-align: right;\">\n",
       "      <th></th>\n",
       "      <th>Left_rule</th>\n",
       "      <th>Right_rule</th>\n",
       "      <th>Support</th>\n",
       "      <th>Confidence</th>\n",
       "    </tr>\n",
       "  </thead>\n",
       "  <tbody>\n",
       "    <tr>\n",
       "      <th>0</th>\n",
       "      <td>[Sardarshahar_Rajasthan]</td>\n",
       "      <td>[Gokak_Karnataka]</td>\n",
       "      <td>0.026345</td>\n",
       "      <td>0.179104</td>\n",
       "    </tr>\n",
       "    <tr>\n",
       "      <th>1</th>\n",
       "      <td>[Sardarshahar_Rajasthan]</td>\n",
       "      <td>[Lucknow_Uttar Pradesh]</td>\n",
       "      <td>0.018661</td>\n",
       "      <td>0.126866</td>\n",
       "    </tr>\n",
       "    <tr>\n",
       "      <th>2</th>\n",
       "      <td>[Sardarshahar_Rajasthan]</td>\n",
       "      <td>[Kollam_Kerala]</td>\n",
       "      <td>0.012075</td>\n",
       "      <td>0.082090</td>\n",
       "    </tr>\n",
       "    <tr>\n",
       "      <th>3</th>\n",
       "      <td>[Channapatna_Karnataka]</td>\n",
       "      <td>[Jorapokhar_Jharkhand]</td>\n",
       "      <td>0.010977</td>\n",
       "      <td>0.196078</td>\n",
       "    </tr>\n",
       "  </tbody>\n",
       "</table>\n",
       "</div>"
      ],
      "text/plain": [
       "                  Left_rule               Right_rule   Support  Confidence\n",
       "0  [Sardarshahar_Rajasthan]        [Gokak_Karnataka]  0.026345    0.179104\n",
       "1  [Sardarshahar_Rajasthan]  [Lucknow_Uttar Pradesh]  0.018661    0.126866\n",
       "2  [Sardarshahar_Rajasthan]          [Kollam_Kerala]  0.012075    0.082090\n",
       "3   [Channapatna_Karnataka]   [Jorapokhar_Jharkhand]  0.010977    0.196078"
      ]
     },
     "execution_count": 115,
     "metadata": {},
     "output_type": "execute_result"
    }
   ],
   "source": [
    "#set min_sup, min_conf as 0.01 and 0.01\n",
    "get_association_rules(sequences, 0.01, 0.01)"
   ]
  }
 ],
 "metadata": {
  "kernelspec": {
   "display_name": "Python 3",
   "language": "python",
   "name": "python3"
  },
  "language_info": {
   "codemirror_mode": {
    "name": "ipython",
    "version": 3
   },
   "file_extension": ".py",
   "mimetype": "text/x-python",
   "name": "python",
   "nbconvert_exporter": "python",
   "pygments_lexer": "ipython3",
   "version": "3.8.5"
  }
 },
 "nbformat": 4,
 "nbformat_minor": 4
}
